{
  "nbformat": 4,
  "nbformat_minor": 0,
  "metadata": {
    "colab": {
      "provenance": [],
      "gpuType": "T4",
      "authorship_tag": "ABX9TyM9GgInz6OZghhDUnr3g3Wi",
      "include_colab_link": true
    },
    "kernelspec": {
      "name": "python3",
      "display_name": "Python 3"
    },
    "language_info": {
      "name": "python"
    },
    "accelerator": "GPU"
  },
  "cells": [
    {
      "cell_type": "markdown",
      "metadata": {
        "id": "view-in-github",
        "colab_type": "text"
      },
      "source": [
        "<a href=\"https://colab.research.google.com/github/cszafariqbal/Time_Series_Projects/blob/main/Flu_Patients_visits_prediction.ipynb\" target=\"_parent\"><img src=\"https://colab.research.google.com/assets/colab-badge.svg\" alt=\"Open In Colab\"/></a>"
      ]
    },
    {
      "cell_type": "markdown",
      "source": [
        "#dataset upload on google colab"
      ],
      "metadata": {
        "id": "eXjQTDK9lyWK"
      }
    },
    {
      "cell_type": "code",
      "execution_count": null,
      "metadata": {
        "colab": {
          "base_uri": "https://localhost:8080/",
          "height": 73
        },
        "id": "kMgMbEYcy70e",
        "outputId": "ae6cf727-850e-4b6c-aa76-76b6f9b7624b"
      },
      "outputs": [
        {
          "output_type": "display_data",
          "data": {
            "text/plain": [
              "<IPython.core.display.HTML object>"
            ],
            "text/html": [
              "\n",
              "     <input type=\"file\" id=\"files-e7e33bbc-32f8-4257-a687-1eab0c1fccf9\" name=\"files[]\" multiple disabled\n",
              "        style=\"border:none\" />\n",
              "     <output id=\"result-e7e33bbc-32f8-4257-a687-1eab0c1fccf9\">\n",
              "      Upload widget is only available when the cell has been executed in the\n",
              "      current browser session. Please rerun this cell to enable.\n",
              "      </output>\n",
              "      <script>// Copyright 2017 Google LLC\n",
              "//\n",
              "// Licensed under the Apache License, Version 2.0 (the \"License\");\n",
              "// you may not use this file except in compliance with the License.\n",
              "// You may obtain a copy of the License at\n",
              "//\n",
              "//      http://www.apache.org/licenses/LICENSE-2.0\n",
              "//\n",
              "// Unless required by applicable law or agreed to in writing, software\n",
              "// distributed under the License is distributed on an \"AS IS\" BASIS,\n",
              "// WITHOUT WARRANTIES OR CONDITIONS OF ANY KIND, either express or implied.\n",
              "// See the License for the specific language governing permissions and\n",
              "// limitations under the License.\n",
              "\n",
              "/**\n",
              " * @fileoverview Helpers for google.colab Python module.\n",
              " */\n",
              "(function(scope) {\n",
              "function span(text, styleAttributes = {}) {\n",
              "  const element = document.createElement('span');\n",
              "  element.textContent = text;\n",
              "  for (const key of Object.keys(styleAttributes)) {\n",
              "    element.style[key] = styleAttributes[key];\n",
              "  }\n",
              "  return element;\n",
              "}\n",
              "\n",
              "// Max number of bytes which will be uploaded at a time.\n",
              "const MAX_PAYLOAD_SIZE = 100 * 1024;\n",
              "\n",
              "function _uploadFiles(inputId, outputId) {\n",
              "  const steps = uploadFilesStep(inputId, outputId);\n",
              "  const outputElement = document.getElementById(outputId);\n",
              "  // Cache steps on the outputElement to make it available for the next call\n",
              "  // to uploadFilesContinue from Python.\n",
              "  outputElement.steps = steps;\n",
              "\n",
              "  return _uploadFilesContinue(outputId);\n",
              "}\n",
              "\n",
              "// This is roughly an async generator (not supported in the browser yet),\n",
              "// where there are multiple asynchronous steps and the Python side is going\n",
              "// to poll for completion of each step.\n",
              "// This uses a Promise to block the python side on completion of each step,\n",
              "// then passes the result of the previous step as the input to the next step.\n",
              "function _uploadFilesContinue(outputId) {\n",
              "  const outputElement = document.getElementById(outputId);\n",
              "  const steps = outputElement.steps;\n",
              "\n",
              "  const next = steps.next(outputElement.lastPromiseValue);\n",
              "  return Promise.resolve(next.value.promise).then((value) => {\n",
              "    // Cache the last promise value to make it available to the next\n",
              "    // step of the generator.\n",
              "    outputElement.lastPromiseValue = value;\n",
              "    return next.value.response;\n",
              "  });\n",
              "}\n",
              "\n",
              "/**\n",
              " * Generator function which is called between each async step of the upload\n",
              " * process.\n",
              " * @param {string} inputId Element ID of the input file picker element.\n",
              " * @param {string} outputId Element ID of the output display.\n",
              " * @return {!Iterable<!Object>} Iterable of next steps.\n",
              " */\n",
              "function* uploadFilesStep(inputId, outputId) {\n",
              "  const inputElement = document.getElementById(inputId);\n",
              "  inputElement.disabled = false;\n",
              "\n",
              "  const outputElement = document.getElementById(outputId);\n",
              "  outputElement.innerHTML = '';\n",
              "\n",
              "  const pickedPromise = new Promise((resolve) => {\n",
              "    inputElement.addEventListener('change', (e) => {\n",
              "      resolve(e.target.files);\n",
              "    });\n",
              "  });\n",
              "\n",
              "  const cancel = document.createElement('button');\n",
              "  inputElement.parentElement.appendChild(cancel);\n",
              "  cancel.textContent = 'Cancel upload';\n",
              "  const cancelPromise = new Promise((resolve) => {\n",
              "    cancel.onclick = () => {\n",
              "      resolve(null);\n",
              "    };\n",
              "  });\n",
              "\n",
              "  // Wait for the user to pick the files.\n",
              "  const files = yield {\n",
              "    promise: Promise.race([pickedPromise, cancelPromise]),\n",
              "    response: {\n",
              "      action: 'starting',\n",
              "    }\n",
              "  };\n",
              "\n",
              "  cancel.remove();\n",
              "\n",
              "  // Disable the input element since further picks are not allowed.\n",
              "  inputElement.disabled = true;\n",
              "\n",
              "  if (!files) {\n",
              "    return {\n",
              "      response: {\n",
              "        action: 'complete',\n",
              "      }\n",
              "    };\n",
              "  }\n",
              "\n",
              "  for (const file of files) {\n",
              "    const li = document.createElement('li');\n",
              "    li.append(span(file.name, {fontWeight: 'bold'}));\n",
              "    li.append(span(\n",
              "        `(${file.type || 'n/a'}) - ${file.size} bytes, ` +\n",
              "        `last modified: ${\n",
              "            file.lastModifiedDate ? file.lastModifiedDate.toLocaleDateString() :\n",
              "                                    'n/a'} - `));\n",
              "    const percent = span('0% done');\n",
              "    li.appendChild(percent);\n",
              "\n",
              "    outputElement.appendChild(li);\n",
              "\n",
              "    const fileDataPromise = new Promise((resolve) => {\n",
              "      const reader = new FileReader();\n",
              "      reader.onload = (e) => {\n",
              "        resolve(e.target.result);\n",
              "      };\n",
              "      reader.readAsArrayBuffer(file);\n",
              "    });\n",
              "    // Wait for the data to be ready.\n",
              "    let fileData = yield {\n",
              "      promise: fileDataPromise,\n",
              "      response: {\n",
              "        action: 'continue',\n",
              "      }\n",
              "    };\n",
              "\n",
              "    // Use a chunked sending to avoid message size limits. See b/62115660.\n",
              "    let position = 0;\n",
              "    do {\n",
              "      const length = Math.min(fileData.byteLength - position, MAX_PAYLOAD_SIZE);\n",
              "      const chunk = new Uint8Array(fileData, position, length);\n",
              "      position += length;\n",
              "\n",
              "      const base64 = btoa(String.fromCharCode.apply(null, chunk));\n",
              "      yield {\n",
              "        response: {\n",
              "          action: 'append',\n",
              "          file: file.name,\n",
              "          data: base64,\n",
              "        },\n",
              "      };\n",
              "\n",
              "      let percentDone = fileData.byteLength === 0 ?\n",
              "          100 :\n",
              "          Math.round((position / fileData.byteLength) * 100);\n",
              "      percent.textContent = `${percentDone}% done`;\n",
              "\n",
              "    } while (position < fileData.byteLength);\n",
              "  }\n",
              "\n",
              "  // All done.\n",
              "  yield {\n",
              "    response: {\n",
              "      action: 'complete',\n",
              "    }\n",
              "  };\n",
              "}\n",
              "\n",
              "scope.google = scope.google || {};\n",
              "scope.google.colab = scope.google.colab || {};\n",
              "scope.google.colab._files = {\n",
              "  _uploadFiles,\n",
              "  _uploadFilesContinue,\n",
              "};\n",
              "})(self);\n",
              "</script> "
            ]
          },
          "metadata": {}
        },
        {
          "output_type": "stream",
          "name": "stdout",
          "text": [
            "Saving flu-trends.csv to flu-trends.csv\n"
          ]
        }
      ],
      "source": [
        "# upload dataset in google colab\n",
        "from google.colab import files\n",
        "uploaded = files.upload()"
      ]
    },
    {
      "cell_type": "markdown",
      "source": [
        "#import the dataset"
      ],
      "metadata": {
        "id": "Z01sWRN3l4tN"
      }
    },
    {
      "cell_type": "code",
      "source": [
        "# dataset import\n",
        "import numpy as np\n",
        "import pandas as pd\n",
        "flu_trends = pd.read_csv('flu-trends.csv')\n",
        "flu_trends.head()"
      ],
      "metadata": {
        "id": "sWyjj3630csN",
        "colab": {
          "base_uri": "https://localhost:8080/",
          "height": 515
        },
        "outputId": "8d2f3d5f-4e52-44f3-a174-84746c6ab711"
      },
      "execution_count": null,
      "outputs": [
        {
          "output_type": "execute_result",
          "data": {
            "text/plain": [
              "                    Week  AInfluenza  AcuteBronchitis  BodyTemperature  \\\n",
              "0  2009-06-29/2009-07-05          36               20               43   \n",
              "1  2009-07-06/2009-07-12          25               19               40   \n",
              "2  2009-07-13/2009-07-19          24               30               45   \n",
              "3  2009-07-20/2009-07-26          23               19               40   \n",
              "4  2009-07-27/2009-08-02          27               21               44   \n",
              "\n",
              "   BraunThermoscan  BreakAFever  Bronchitis  ChestCold  ColdAndFlu  ColdOrFlu  \\\n",
              "0               27           11          22         16           7          3   \n",
              "1               31           10          21         11           6          8   \n",
              "2               20           12          20         20           6          6   \n",
              "3               15           10          19         12           7         10   \n",
              "4               20           11          19         17           8         10   \n",
              "\n",
              "   ...  TreatingTheFlu  TreatmentForFlu  TreatmentForTheFlu  Tussin  \\\n",
              "0  ...              16                6                  13      25   \n",
              "1  ...              16                7                   8      27   \n",
              "2  ...              16                6                   9      24   \n",
              "3  ...               8                5                  12      21   \n",
              "4  ...               8                8                  12      33   \n",
              "\n",
              "   Tussionex  TypeAInfluenza  UpperRespiratory  WalkingPneumonia  \\\n",
              "0         34              30                25                24   \n",
              "1         32              27                28                29   \n",
              "2         28              25                25                25   \n",
              "3         26              26                29                24   \n",
              "4         29              21                27                30   \n",
              "\n",
              "   WhatToDoIfYouHaveTheFlu  FluVisits  \n",
              "0                       15        180  \n",
              "1                        9        115  \n",
              "2                        9        132  \n",
              "3                       13        109  \n",
              "4                        9        120  \n",
              "\n",
              "[5 rows x 131 columns]"
            ],
            "text/html": [
              "\n",
              "  <div id=\"df-dc49df3d-4008-40f7-9cee-068372d70322\" class=\"colab-df-container\">\n",
              "    <div>\n",
              "<style scoped>\n",
              "    .dataframe tbody tr th:only-of-type {\n",
              "        vertical-align: middle;\n",
              "    }\n",
              "\n",
              "    .dataframe tbody tr th {\n",
              "        vertical-align: top;\n",
              "    }\n",
              "\n",
              "    .dataframe thead th {\n",
              "        text-align: right;\n",
              "    }\n",
              "</style>\n",
              "<table border=\"1\" class=\"dataframe\">\n",
              "  <thead>\n",
              "    <tr style=\"text-align: right;\">\n",
              "      <th></th>\n",
              "      <th>Week</th>\n",
              "      <th>AInfluenza</th>\n",
              "      <th>AcuteBronchitis</th>\n",
              "      <th>BodyTemperature</th>\n",
              "      <th>BraunThermoscan</th>\n",
              "      <th>BreakAFever</th>\n",
              "      <th>Bronchitis</th>\n",
              "      <th>ChestCold</th>\n",
              "      <th>ColdAndFlu</th>\n",
              "      <th>ColdOrFlu</th>\n",
              "      <th>...</th>\n",
              "      <th>TreatingTheFlu</th>\n",
              "      <th>TreatmentForFlu</th>\n",
              "      <th>TreatmentForTheFlu</th>\n",
              "      <th>Tussin</th>\n",
              "      <th>Tussionex</th>\n",
              "      <th>TypeAInfluenza</th>\n",
              "      <th>UpperRespiratory</th>\n",
              "      <th>WalkingPneumonia</th>\n",
              "      <th>WhatToDoIfYouHaveTheFlu</th>\n",
              "      <th>FluVisits</th>\n",
              "    </tr>\n",
              "  </thead>\n",
              "  <tbody>\n",
              "    <tr>\n",
              "      <th>0</th>\n",
              "      <td>2009-06-29/2009-07-05</td>\n",
              "      <td>36</td>\n",
              "      <td>20</td>\n",
              "      <td>43</td>\n",
              "      <td>27</td>\n",
              "      <td>11</td>\n",
              "      <td>22</td>\n",
              "      <td>16</td>\n",
              "      <td>7</td>\n",
              "      <td>3</td>\n",
              "      <td>...</td>\n",
              "      <td>16</td>\n",
              "      <td>6</td>\n",
              "      <td>13</td>\n",
              "      <td>25</td>\n",
              "      <td>34</td>\n",
              "      <td>30</td>\n",
              "      <td>25</td>\n",
              "      <td>24</td>\n",
              "      <td>15</td>\n",
              "      <td>180</td>\n",
              "    </tr>\n",
              "    <tr>\n",
              "      <th>1</th>\n",
              "      <td>2009-07-06/2009-07-12</td>\n",
              "      <td>25</td>\n",
              "      <td>19</td>\n",
              "      <td>40</td>\n",
              "      <td>31</td>\n",
              "      <td>10</td>\n",
              "      <td>21</td>\n",
              "      <td>11</td>\n",
              "      <td>6</td>\n",
              "      <td>8</td>\n",
              "      <td>...</td>\n",
              "      <td>16</td>\n",
              "      <td>7</td>\n",
              "      <td>8</td>\n",
              "      <td>27</td>\n",
              "      <td>32</td>\n",
              "      <td>27</td>\n",
              "      <td>28</td>\n",
              "      <td>29</td>\n",
              "      <td>9</td>\n",
              "      <td>115</td>\n",
              "    </tr>\n",
              "    <tr>\n",
              "      <th>2</th>\n",
              "      <td>2009-07-13/2009-07-19</td>\n",
              "      <td>24</td>\n",
              "      <td>30</td>\n",
              "      <td>45</td>\n",
              "      <td>20</td>\n",
              "      <td>12</td>\n",
              "      <td>20</td>\n",
              "      <td>20</td>\n",
              "      <td>6</td>\n",
              "      <td>6</td>\n",
              "      <td>...</td>\n",
              "      <td>16</td>\n",
              "      <td>6</td>\n",
              "      <td>9</td>\n",
              "      <td>24</td>\n",
              "      <td>28</td>\n",
              "      <td>25</td>\n",
              "      <td>25</td>\n",
              "      <td>25</td>\n",
              "      <td>9</td>\n",
              "      <td>132</td>\n",
              "    </tr>\n",
              "    <tr>\n",
              "      <th>3</th>\n",
              "      <td>2009-07-20/2009-07-26</td>\n",
              "      <td>23</td>\n",
              "      <td>19</td>\n",
              "      <td>40</td>\n",
              "      <td>15</td>\n",
              "      <td>10</td>\n",
              "      <td>19</td>\n",
              "      <td>12</td>\n",
              "      <td>7</td>\n",
              "      <td>10</td>\n",
              "      <td>...</td>\n",
              "      <td>8</td>\n",
              "      <td>5</td>\n",
              "      <td>12</td>\n",
              "      <td>21</td>\n",
              "      <td>26</td>\n",
              "      <td>26</td>\n",
              "      <td>29</td>\n",
              "      <td>24</td>\n",
              "      <td>13</td>\n",
              "      <td>109</td>\n",
              "    </tr>\n",
              "    <tr>\n",
              "      <th>4</th>\n",
              "      <td>2009-07-27/2009-08-02</td>\n",
              "      <td>27</td>\n",
              "      <td>21</td>\n",
              "      <td>44</td>\n",
              "      <td>20</td>\n",
              "      <td>11</td>\n",
              "      <td>19</td>\n",
              "      <td>17</td>\n",
              "      <td>8</td>\n",
              "      <td>10</td>\n",
              "      <td>...</td>\n",
              "      <td>8</td>\n",
              "      <td>8</td>\n",
              "      <td>12</td>\n",
              "      <td>33</td>\n",
              "      <td>29</td>\n",
              "      <td>21</td>\n",
              "      <td>27</td>\n",
              "      <td>30</td>\n",
              "      <td>9</td>\n",
              "      <td>120</td>\n",
              "    </tr>\n",
              "  </tbody>\n",
              "</table>\n",
              "<p>5 rows × 131 columns</p>\n",
              "</div>\n",
              "    <div class=\"colab-df-buttons\">\n",
              "\n",
              "  <div class=\"colab-df-container\">\n",
              "    <button class=\"colab-df-convert\" onclick=\"convertToInteractive('df-dc49df3d-4008-40f7-9cee-068372d70322')\"\n",
              "            title=\"Convert this dataframe to an interactive table.\"\n",
              "            style=\"display:none;\">\n",
              "\n",
              "  <svg xmlns=\"http://www.w3.org/2000/svg\" height=\"24px\" viewBox=\"0 -960 960 960\">\n",
              "    <path d=\"M120-120v-720h720v720H120Zm60-500h600v-160H180v160Zm220 220h160v-160H400v160Zm0 220h160v-160H400v160ZM180-400h160v-160H180v160Zm440 0h160v-160H620v160ZM180-180h160v-160H180v160Zm440 0h160v-160H620v160Z\"/>\n",
              "  </svg>\n",
              "    </button>\n",
              "\n",
              "  <style>\n",
              "    .colab-df-container {\n",
              "      display:flex;\n",
              "      gap: 12px;\n",
              "    }\n",
              "\n",
              "    .colab-df-convert {\n",
              "      background-color: #E8F0FE;\n",
              "      border: none;\n",
              "      border-radius: 50%;\n",
              "      cursor: pointer;\n",
              "      display: none;\n",
              "      fill: #1967D2;\n",
              "      height: 32px;\n",
              "      padding: 0 0 0 0;\n",
              "      width: 32px;\n",
              "    }\n",
              "\n",
              "    .colab-df-convert:hover {\n",
              "      background-color: #E2EBFA;\n",
              "      box-shadow: 0px 1px 2px rgba(60, 64, 67, 0.3), 0px 1px 3px 1px rgba(60, 64, 67, 0.15);\n",
              "      fill: #174EA6;\n",
              "    }\n",
              "\n",
              "    .colab-df-buttons div {\n",
              "      margin-bottom: 4px;\n",
              "    }\n",
              "\n",
              "    [theme=dark] .colab-df-convert {\n",
              "      background-color: #3B4455;\n",
              "      fill: #D2E3FC;\n",
              "    }\n",
              "\n",
              "    [theme=dark] .colab-df-convert:hover {\n",
              "      background-color: #434B5C;\n",
              "      box-shadow: 0px 1px 3px 1px rgba(0, 0, 0, 0.15);\n",
              "      filter: drop-shadow(0px 1px 2px rgba(0, 0, 0, 0.3));\n",
              "      fill: #FFFFFF;\n",
              "    }\n",
              "  </style>\n",
              "\n",
              "    <script>\n",
              "      const buttonEl =\n",
              "        document.querySelector('#df-dc49df3d-4008-40f7-9cee-068372d70322 button.colab-df-convert');\n",
              "      buttonEl.style.display =\n",
              "        google.colab.kernel.accessAllowed ? 'block' : 'none';\n",
              "\n",
              "      async function convertToInteractive(key) {\n",
              "        const element = document.querySelector('#df-dc49df3d-4008-40f7-9cee-068372d70322');\n",
              "        const dataTable =\n",
              "          await google.colab.kernel.invokeFunction('convertToInteractive',\n",
              "                                                    [key], {});\n",
              "        if (!dataTable) return;\n",
              "\n",
              "        const docLinkHtml = 'Like what you see? Visit the ' +\n",
              "          '<a target=\"_blank\" href=https://colab.research.google.com/notebooks/data_table.ipynb>data table notebook</a>'\n",
              "          + ' to learn more about interactive tables.';\n",
              "        element.innerHTML = '';\n",
              "        dataTable['output_type'] = 'display_data';\n",
              "        await google.colab.output.renderOutput(dataTable, element);\n",
              "        const docLink = document.createElement('div');\n",
              "        docLink.innerHTML = docLinkHtml;\n",
              "        element.appendChild(docLink);\n",
              "      }\n",
              "    </script>\n",
              "  </div>\n",
              "\n",
              "\n",
              "<div id=\"df-002bfac2-089e-4b60-90fd-9c3db9909eb5\">\n",
              "  <button class=\"colab-df-quickchart\" onclick=\"quickchart('df-002bfac2-089e-4b60-90fd-9c3db9909eb5')\"\n",
              "            title=\"Suggest charts.\"\n",
              "            style=\"display:none;\">\n",
              "\n",
              "<svg xmlns=\"http://www.w3.org/2000/svg\" height=\"24px\"viewBox=\"0 0 24 24\"\n",
              "     width=\"24px\">\n",
              "    <g>\n",
              "        <path d=\"M19 3H5c-1.1 0-2 .9-2 2v14c0 1.1.9 2 2 2h14c1.1 0 2-.9 2-2V5c0-1.1-.9-2-2-2zM9 17H7v-7h2v7zm4 0h-2V7h2v10zm4 0h-2v-4h2v4z\"/>\n",
              "    </g>\n",
              "</svg>\n",
              "  </button>\n",
              "\n",
              "<style>\n",
              "  .colab-df-quickchart {\n",
              "    background-color: #E8F0FE;\n",
              "    border: none;\n",
              "    border-radius: 50%;\n",
              "    cursor: pointer;\n",
              "    display: none;\n",
              "    fill: #1967D2;\n",
              "    height: 32px;\n",
              "    padding: 0 0 0 0;\n",
              "    width: 32px;\n",
              "  }\n",
              "\n",
              "  .colab-df-quickchart:hover {\n",
              "    background-color: #E2EBFA;\n",
              "    box-shadow: 0px 1px 2px rgba(60, 64, 67, 0.3), 0px 1px 3px 1px rgba(60, 64, 67, 0.15);\n",
              "    fill: #174EA6;\n",
              "  }\n",
              "\n",
              "  [theme=dark] .colab-df-quickchart {\n",
              "    background-color: #3B4455;\n",
              "    fill: #D2E3FC;\n",
              "  }\n",
              "\n",
              "  [theme=dark] .colab-df-quickchart:hover {\n",
              "    background-color: #434B5C;\n",
              "    box-shadow: 0px 1px 3px 1px rgba(0, 0, 0, 0.15);\n",
              "    filter: drop-shadow(0px 1px 2px rgba(0, 0, 0, 0.3));\n",
              "    fill: #FFFFFF;\n",
              "  }\n",
              "</style>\n",
              "\n",
              "  <script>\n",
              "    async function quickchart(key) {\n",
              "      const charts = await google.colab.kernel.invokeFunction(\n",
              "          'suggestCharts', [key], {});\n",
              "    }\n",
              "    (() => {\n",
              "      let quickchartButtonEl =\n",
              "        document.querySelector('#df-002bfac2-089e-4b60-90fd-9c3db9909eb5 button');\n",
              "      quickchartButtonEl.style.display =\n",
              "        google.colab.kernel.accessAllowed ? 'block' : 'none';\n",
              "    })();\n",
              "  </script>\n",
              "</div>\n",
              "    </div>\n",
              "  </div>\n"
            ]
          },
          "metadata": {},
          "execution_count": 3
        }
      ]
    },
    {
      "cell_type": "code",
      "source": [
        "# set index\n",
        "flu_trends.set_index(pd.PeriodIndex(flu_trends.Week, freq=\"W\"),inplace=True)\n",
        "flu_trends.head()"
      ],
      "metadata": {
        "colab": {
          "base_uri": "https://localhost:8080/",
          "height": 547
        },
        "id": "-dXpsc_y-gLB",
        "outputId": "bdfee4d1-2a62-4359-a506-ef5a69328c68"
      },
      "execution_count": null,
      "outputs": [
        {
          "output_type": "execute_result",
          "data": {
            "text/plain": [
              "                                        Week  AInfluenza  AcuteBronchitis  \\\n",
              "Week                                                                        \n",
              "2009-06-29/2009-07-05  2009-06-29/2009-07-05          36               20   \n",
              "2009-07-06/2009-07-12  2009-07-06/2009-07-12          25               19   \n",
              "2009-07-13/2009-07-19  2009-07-13/2009-07-19          24               30   \n",
              "2009-07-20/2009-07-26  2009-07-20/2009-07-26          23               19   \n",
              "2009-07-27/2009-08-02  2009-07-27/2009-08-02          27               21   \n",
              "\n",
              "                       BodyTemperature  BraunThermoscan  BreakAFever  \\\n",
              "Week                                                                   \n",
              "2009-06-29/2009-07-05               43               27           11   \n",
              "2009-07-06/2009-07-12               40               31           10   \n",
              "2009-07-13/2009-07-19               45               20           12   \n",
              "2009-07-20/2009-07-26               40               15           10   \n",
              "2009-07-27/2009-08-02               44               20           11   \n",
              "\n",
              "                       Bronchitis  ChestCold  ColdAndFlu  ColdOrFlu  ...  \\\n",
              "Week                                                                 ...   \n",
              "2009-06-29/2009-07-05          22         16           7          3  ...   \n",
              "2009-07-06/2009-07-12          21         11           6          8  ...   \n",
              "2009-07-13/2009-07-19          20         20           6          6  ...   \n",
              "2009-07-20/2009-07-26          19         12           7         10  ...   \n",
              "2009-07-27/2009-08-02          19         17           8         10  ...   \n",
              "\n",
              "                       TreatingTheFlu  TreatmentForFlu  TreatmentForTheFlu  \\\n",
              "Week                                                                         \n",
              "2009-06-29/2009-07-05              16                6                  13   \n",
              "2009-07-06/2009-07-12              16                7                   8   \n",
              "2009-07-13/2009-07-19              16                6                   9   \n",
              "2009-07-20/2009-07-26               8                5                  12   \n",
              "2009-07-27/2009-08-02               8                8                  12   \n",
              "\n",
              "                       Tussin  Tussionex  TypeAInfluenza  UpperRespiratory  \\\n",
              "Week                                                                         \n",
              "2009-06-29/2009-07-05      25         34              30                25   \n",
              "2009-07-06/2009-07-12      27         32              27                28   \n",
              "2009-07-13/2009-07-19      24         28              25                25   \n",
              "2009-07-20/2009-07-26      21         26              26                29   \n",
              "2009-07-27/2009-08-02      33         29              21                27   \n",
              "\n",
              "                       WalkingPneumonia  WhatToDoIfYouHaveTheFlu  FluVisits  \n",
              "Week                                                                         \n",
              "2009-06-29/2009-07-05                24                       15        180  \n",
              "2009-07-06/2009-07-12                29                        9        115  \n",
              "2009-07-13/2009-07-19                25                        9        132  \n",
              "2009-07-20/2009-07-26                24                       13        109  \n",
              "2009-07-27/2009-08-02                30                        9        120  \n",
              "\n",
              "[5 rows x 131 columns]"
            ],
            "text/html": [
              "\n",
              "  <div id=\"df-b154dd59-c588-4202-aa02-e71e5f928cd5\" class=\"colab-df-container\">\n",
              "    <div>\n",
              "<style scoped>\n",
              "    .dataframe tbody tr th:only-of-type {\n",
              "        vertical-align: middle;\n",
              "    }\n",
              "\n",
              "    .dataframe tbody tr th {\n",
              "        vertical-align: top;\n",
              "    }\n",
              "\n",
              "    .dataframe thead th {\n",
              "        text-align: right;\n",
              "    }\n",
              "</style>\n",
              "<table border=\"1\" class=\"dataframe\">\n",
              "  <thead>\n",
              "    <tr style=\"text-align: right;\">\n",
              "      <th></th>\n",
              "      <th>Week</th>\n",
              "      <th>AInfluenza</th>\n",
              "      <th>AcuteBronchitis</th>\n",
              "      <th>BodyTemperature</th>\n",
              "      <th>BraunThermoscan</th>\n",
              "      <th>BreakAFever</th>\n",
              "      <th>Bronchitis</th>\n",
              "      <th>ChestCold</th>\n",
              "      <th>ColdAndFlu</th>\n",
              "      <th>ColdOrFlu</th>\n",
              "      <th>...</th>\n",
              "      <th>TreatingTheFlu</th>\n",
              "      <th>TreatmentForFlu</th>\n",
              "      <th>TreatmentForTheFlu</th>\n",
              "      <th>Tussin</th>\n",
              "      <th>Tussionex</th>\n",
              "      <th>TypeAInfluenza</th>\n",
              "      <th>UpperRespiratory</th>\n",
              "      <th>WalkingPneumonia</th>\n",
              "      <th>WhatToDoIfYouHaveTheFlu</th>\n",
              "      <th>FluVisits</th>\n",
              "    </tr>\n",
              "    <tr>\n",
              "      <th>Week</th>\n",
              "      <th></th>\n",
              "      <th></th>\n",
              "      <th></th>\n",
              "      <th></th>\n",
              "      <th></th>\n",
              "      <th></th>\n",
              "      <th></th>\n",
              "      <th></th>\n",
              "      <th></th>\n",
              "      <th></th>\n",
              "      <th></th>\n",
              "      <th></th>\n",
              "      <th></th>\n",
              "      <th></th>\n",
              "      <th></th>\n",
              "      <th></th>\n",
              "      <th></th>\n",
              "      <th></th>\n",
              "      <th></th>\n",
              "      <th></th>\n",
              "      <th></th>\n",
              "    </tr>\n",
              "  </thead>\n",
              "  <tbody>\n",
              "    <tr>\n",
              "      <th>2009-06-29/2009-07-05</th>\n",
              "      <td>2009-06-29/2009-07-05</td>\n",
              "      <td>36</td>\n",
              "      <td>20</td>\n",
              "      <td>43</td>\n",
              "      <td>27</td>\n",
              "      <td>11</td>\n",
              "      <td>22</td>\n",
              "      <td>16</td>\n",
              "      <td>7</td>\n",
              "      <td>3</td>\n",
              "      <td>...</td>\n",
              "      <td>16</td>\n",
              "      <td>6</td>\n",
              "      <td>13</td>\n",
              "      <td>25</td>\n",
              "      <td>34</td>\n",
              "      <td>30</td>\n",
              "      <td>25</td>\n",
              "      <td>24</td>\n",
              "      <td>15</td>\n",
              "      <td>180</td>\n",
              "    </tr>\n",
              "    <tr>\n",
              "      <th>2009-07-06/2009-07-12</th>\n",
              "      <td>2009-07-06/2009-07-12</td>\n",
              "      <td>25</td>\n",
              "      <td>19</td>\n",
              "      <td>40</td>\n",
              "      <td>31</td>\n",
              "      <td>10</td>\n",
              "      <td>21</td>\n",
              "      <td>11</td>\n",
              "      <td>6</td>\n",
              "      <td>8</td>\n",
              "      <td>...</td>\n",
              "      <td>16</td>\n",
              "      <td>7</td>\n",
              "      <td>8</td>\n",
              "      <td>27</td>\n",
              "      <td>32</td>\n",
              "      <td>27</td>\n",
              "      <td>28</td>\n",
              "      <td>29</td>\n",
              "      <td>9</td>\n",
              "      <td>115</td>\n",
              "    </tr>\n",
              "    <tr>\n",
              "      <th>2009-07-13/2009-07-19</th>\n",
              "      <td>2009-07-13/2009-07-19</td>\n",
              "      <td>24</td>\n",
              "      <td>30</td>\n",
              "      <td>45</td>\n",
              "      <td>20</td>\n",
              "      <td>12</td>\n",
              "      <td>20</td>\n",
              "      <td>20</td>\n",
              "      <td>6</td>\n",
              "      <td>6</td>\n",
              "      <td>...</td>\n",
              "      <td>16</td>\n",
              "      <td>6</td>\n",
              "      <td>9</td>\n",
              "      <td>24</td>\n",
              "      <td>28</td>\n",
              "      <td>25</td>\n",
              "      <td>25</td>\n",
              "      <td>25</td>\n",
              "      <td>9</td>\n",
              "      <td>132</td>\n",
              "    </tr>\n",
              "    <tr>\n",
              "      <th>2009-07-20/2009-07-26</th>\n",
              "      <td>2009-07-20/2009-07-26</td>\n",
              "      <td>23</td>\n",
              "      <td>19</td>\n",
              "      <td>40</td>\n",
              "      <td>15</td>\n",
              "      <td>10</td>\n",
              "      <td>19</td>\n",
              "      <td>12</td>\n",
              "      <td>7</td>\n",
              "      <td>10</td>\n",
              "      <td>...</td>\n",
              "      <td>8</td>\n",
              "      <td>5</td>\n",
              "      <td>12</td>\n",
              "      <td>21</td>\n",
              "      <td>26</td>\n",
              "      <td>26</td>\n",
              "      <td>29</td>\n",
              "      <td>24</td>\n",
              "      <td>13</td>\n",
              "      <td>109</td>\n",
              "    </tr>\n",
              "    <tr>\n",
              "      <th>2009-07-27/2009-08-02</th>\n",
              "      <td>2009-07-27/2009-08-02</td>\n",
              "      <td>27</td>\n",
              "      <td>21</td>\n",
              "      <td>44</td>\n",
              "      <td>20</td>\n",
              "      <td>11</td>\n",
              "      <td>19</td>\n",
              "      <td>17</td>\n",
              "      <td>8</td>\n",
              "      <td>10</td>\n",
              "      <td>...</td>\n",
              "      <td>8</td>\n",
              "      <td>8</td>\n",
              "      <td>12</td>\n",
              "      <td>33</td>\n",
              "      <td>29</td>\n",
              "      <td>21</td>\n",
              "      <td>27</td>\n",
              "      <td>30</td>\n",
              "      <td>9</td>\n",
              "      <td>120</td>\n",
              "    </tr>\n",
              "  </tbody>\n",
              "</table>\n",
              "<p>5 rows × 131 columns</p>\n",
              "</div>\n",
              "    <div class=\"colab-df-buttons\">\n",
              "\n",
              "  <div class=\"colab-df-container\">\n",
              "    <button class=\"colab-df-convert\" onclick=\"convertToInteractive('df-b154dd59-c588-4202-aa02-e71e5f928cd5')\"\n",
              "            title=\"Convert this dataframe to an interactive table.\"\n",
              "            style=\"display:none;\">\n",
              "\n",
              "  <svg xmlns=\"http://www.w3.org/2000/svg\" height=\"24px\" viewBox=\"0 -960 960 960\">\n",
              "    <path d=\"M120-120v-720h720v720H120Zm60-500h600v-160H180v160Zm220 220h160v-160H400v160Zm0 220h160v-160H400v160ZM180-400h160v-160H180v160Zm440 0h160v-160H620v160ZM180-180h160v-160H180v160Zm440 0h160v-160H620v160Z\"/>\n",
              "  </svg>\n",
              "    </button>\n",
              "\n",
              "  <style>\n",
              "    .colab-df-container {\n",
              "      display:flex;\n",
              "      gap: 12px;\n",
              "    }\n",
              "\n",
              "    .colab-df-convert {\n",
              "      background-color: #E8F0FE;\n",
              "      border: none;\n",
              "      border-radius: 50%;\n",
              "      cursor: pointer;\n",
              "      display: none;\n",
              "      fill: #1967D2;\n",
              "      height: 32px;\n",
              "      padding: 0 0 0 0;\n",
              "      width: 32px;\n",
              "    }\n",
              "\n",
              "    .colab-df-convert:hover {\n",
              "      background-color: #E2EBFA;\n",
              "      box-shadow: 0px 1px 2px rgba(60, 64, 67, 0.3), 0px 1px 3px 1px rgba(60, 64, 67, 0.15);\n",
              "      fill: #174EA6;\n",
              "    }\n",
              "\n",
              "    .colab-df-buttons div {\n",
              "      margin-bottom: 4px;\n",
              "    }\n",
              "\n",
              "    [theme=dark] .colab-df-convert {\n",
              "      background-color: #3B4455;\n",
              "      fill: #D2E3FC;\n",
              "    }\n",
              "\n",
              "    [theme=dark] .colab-df-convert:hover {\n",
              "      background-color: #434B5C;\n",
              "      box-shadow: 0px 1px 3px 1px rgba(0, 0, 0, 0.15);\n",
              "      filter: drop-shadow(0px 1px 2px rgba(0, 0, 0, 0.3));\n",
              "      fill: #FFFFFF;\n",
              "    }\n",
              "  </style>\n",
              "\n",
              "    <script>\n",
              "      const buttonEl =\n",
              "        document.querySelector('#df-b154dd59-c588-4202-aa02-e71e5f928cd5 button.colab-df-convert');\n",
              "      buttonEl.style.display =\n",
              "        google.colab.kernel.accessAllowed ? 'block' : 'none';\n",
              "\n",
              "      async function convertToInteractive(key) {\n",
              "        const element = document.querySelector('#df-b154dd59-c588-4202-aa02-e71e5f928cd5');\n",
              "        const dataTable =\n",
              "          await google.colab.kernel.invokeFunction('convertToInteractive',\n",
              "                                                    [key], {});\n",
              "        if (!dataTable) return;\n",
              "\n",
              "        const docLinkHtml = 'Like what you see? Visit the ' +\n",
              "          '<a target=\"_blank\" href=https://colab.research.google.com/notebooks/data_table.ipynb>data table notebook</a>'\n",
              "          + ' to learn more about interactive tables.';\n",
              "        element.innerHTML = '';\n",
              "        dataTable['output_type'] = 'display_data';\n",
              "        await google.colab.output.renderOutput(dataTable, element);\n",
              "        const docLink = document.createElement('div');\n",
              "        docLink.innerHTML = docLinkHtml;\n",
              "        element.appendChild(docLink);\n",
              "      }\n",
              "    </script>\n",
              "  </div>\n",
              "\n",
              "\n",
              "<div id=\"df-73ec32bf-17df-4899-9a02-eaff183c629b\">\n",
              "  <button class=\"colab-df-quickchart\" onclick=\"quickchart('df-73ec32bf-17df-4899-9a02-eaff183c629b')\"\n",
              "            title=\"Suggest charts.\"\n",
              "            style=\"display:none;\">\n",
              "\n",
              "<svg xmlns=\"http://www.w3.org/2000/svg\" height=\"24px\"viewBox=\"0 0 24 24\"\n",
              "     width=\"24px\">\n",
              "    <g>\n",
              "        <path d=\"M19 3H5c-1.1 0-2 .9-2 2v14c0 1.1.9 2 2 2h14c1.1 0 2-.9 2-2V5c0-1.1-.9-2-2-2zM9 17H7v-7h2v7zm4 0h-2V7h2v10zm4 0h-2v-4h2v4z\"/>\n",
              "    </g>\n",
              "</svg>\n",
              "  </button>\n",
              "\n",
              "<style>\n",
              "  .colab-df-quickchart {\n",
              "    background-color: #E8F0FE;\n",
              "    border: none;\n",
              "    border-radius: 50%;\n",
              "    cursor: pointer;\n",
              "    display: none;\n",
              "    fill: #1967D2;\n",
              "    height: 32px;\n",
              "    padding: 0 0 0 0;\n",
              "    width: 32px;\n",
              "  }\n",
              "\n",
              "  .colab-df-quickchart:hover {\n",
              "    background-color: #E2EBFA;\n",
              "    box-shadow: 0px 1px 2px rgba(60, 64, 67, 0.3), 0px 1px 3px 1px rgba(60, 64, 67, 0.15);\n",
              "    fill: #174EA6;\n",
              "  }\n",
              "\n",
              "  [theme=dark] .colab-df-quickchart {\n",
              "    background-color: #3B4455;\n",
              "    fill: #D2E3FC;\n",
              "  }\n",
              "\n",
              "  [theme=dark] .colab-df-quickchart:hover {\n",
              "    background-color: #434B5C;\n",
              "    box-shadow: 0px 1px 3px 1px rgba(0, 0, 0, 0.15);\n",
              "    filter: drop-shadow(0px 1px 2px rgba(0, 0, 0, 0.3));\n",
              "    fill: #FFFFFF;\n",
              "  }\n",
              "</style>\n",
              "\n",
              "  <script>\n",
              "    async function quickchart(key) {\n",
              "      const charts = await google.colab.kernel.invokeFunction(\n",
              "          'suggestCharts', [key], {});\n",
              "    }\n",
              "    (() => {\n",
              "      let quickchartButtonEl =\n",
              "        document.querySelector('#df-73ec32bf-17df-4899-9a02-eaff183c629b button');\n",
              "      quickchartButtonEl.style.display =\n",
              "        google.colab.kernel.accessAllowed ? 'block' : 'none';\n",
              "    })();\n",
              "  </script>\n",
              "</div>\n",
              "    </div>\n",
              "  </div>\n"
            ]
          },
          "metadata": {},
          "execution_count": 4
        }
      ]
    },
    {
      "cell_type": "markdown",
      "source": [
        "#EDA for Trend & seasonal Plot"
      ],
      "metadata": {
        "id": "3SZg0jFVmKKb"
      }
    },
    {
      "cell_type": "code",
      "source": [
        "# remove column week from dataset\n",
        "flu_trends.drop(\"Week\", axis=1, inplace=True)"
      ],
      "metadata": {
        "id": "zTXE37p--53n"
      },
      "execution_count": null,
      "outputs": []
    },
    {
      "cell_type": "code",
      "source": [
        "# import library\n",
        "import matplotlib.pyplot as plt\n",
        "import seaborn as sns\n",
        "%matplotlib inline\n",
        "from datetime import datetime, date\n",
        "from scipy.signal import periodogram\n",
        "from statsmodels.graphics.tsaplots import plot_pacf, plot_acf\n",
        "from statsmodels.tsa.stattools import adfuller, kpss\n",
        "from statsmodels.tsa.seasonal import seasonal_decompose\n",
        "\n",
        "# Set Matplotlib defaults\n",
        "plt.style.use(\"seaborn-whitegrid\")\n",
        "plt.rc(\"figure\", autolayout=True, figsize=(11, 4))\n",
        "plt.rc(\n",
        "    \"axes\",\n",
        "    labelweight=\"bold\",\n",
        "    labelsize=\"large\",\n",
        "    titleweight=\"bold\",\n",
        "    titlesize=16,\n",
        "    titlepad=10,\n",
        ")\n",
        "plot_params = dict(\n",
        "    color=\"0.75\",\n",
        "    style=\".-\",\n",
        "    markeredgecolor=\"0.25\",\n",
        "    markerfacecolor=\"0.25\",\n",
        ")\n",
        "\n"
      ],
      "metadata": {
        "colab": {
          "base_uri": "https://localhost:8080/"
        },
        "id": "SGiH8A5I-_hd",
        "outputId": "99f153b8-e780-47d7-c4fd-9c9276c52836"
      },
      "execution_count": null,
      "outputs": [
        {
          "output_type": "stream",
          "name": "stderr",
          "text": [
            "<ipython-input-16-f30b283128ec>:12: MatplotlibDeprecationWarning: The seaborn styles shipped by Matplotlib are deprecated since 3.6, as they no longer correspond to the styles shipped by seaborn. However, they will remain available as 'seaborn-v0_8-<style>'. Alternatively, directly use the seaborn API instead.\n",
            "  plt.style.use(\"seaborn-whitegrid\")\n"
          ]
        }
      ]
    },
    {
      "cell_type": "code",
      "source": [
        "ax = flu_trends.FluVisits.plot(title='Flu Trends', **plot_params)\n",
        "_ = ax.set(ylabel=\"Office Visits\")\n"
      ],
      "metadata": {
        "colab": {
          "base_uri": "https://localhost:8080/",
          "height": 355
        },
        "id": "QYoGw9fCD2hY",
        "outputId": "c428f178-e11f-4f83-9905-83d76dd6eebd"
      },
      "execution_count": null,
      "outputs": [
        {
          "output_type": "display_data",
          "data": {
            "text/plain": [
              "<Figure size 1100x400 with 1 Axes>"
            ],
            "image/png": "[encoded data removed]"
          },
          "metadata": {}
        }
      ]
    },
    {
      "cell_type": "code",
      "source": [
        "flu_trends.FluVisits.plot()\n",
        "plt.show()\n"
      ],
      "metadata": {
        "colab": {
          "base_uri": "https://localhost:8080/",
          "height": 355
        },
        "id": "XqFRzNluBClJ",
        "outputId": "839e7e12-6025-4dc0-90ad-0c634f281c19"
      },
      "execution_count": null,
      "outputs": [
        {
          "output_type": "display_data",
          "data": {
            "text/plain": [
              "<Figure size 1100x400 with 1 Axes>"
            ],
            "image/png": "[encoded data removed]"
          },
          "metadata": {}
        }
      ]
    },
    {
      "cell_type": "code",
      "source": [
        "# plot_acf\n",
        "plot_acf(flu_trends.FluVisits)\n",
        "plt.show()"
      ],
      "metadata": {
        "colab": {
          "base_uri": "https://localhost:8080/",
          "height": 354
        },
        "id": "5OR0_MfpBKhE",
        "outputId": "795d2c3e-d6a9-4734-8d38-71ccbec2f501"
      },
      "execution_count": null,
      "outputs": [
        {
          "output_type": "display_data",
          "data": {
            "text/plain": [
              "<Figure size 1100x400 with 1 Axes>"
            ],
            "image/png": "[encoded data removed]"
          },
          "metadata": {}
        }
      ]
    },
    {
      "cell_type": "code",
      "source": [
        "# plot_pacf\n",
        "plot_pacf(flu_trends.FluVisits)\n",
        "plt.show()"
      ],
      "metadata": {
        "colab": {
          "base_uri": "https://localhost:8080/",
          "height": 354
        },
        "id": "tC3UJY6ZFa1d",
        "outputId": "7c014fb2-b174-4a46-9f30-ee829decbba6"
      },
      "execution_count": null,
      "outputs": [
        {
          "output_type": "display_data",
          "data": {
            "text/plain": [
              "<Figure size 1100x400 with 1 Axes>"
            ],
            "image/png": "[encoded data removed]"
          },
          "metadata": {}
        }
      ]
    },
    {
      "cell_type": "markdown",
      "source": [
        "#Adf test for check the series is stationary or not stationary"
      ],
      "metadata": {
        "id": "H_D2e0FDmVFS"
      }
    },
    {
      "cell_type": "code",
      "source": [
        "from statsmodels.tsa.stattools import adfuller\n",
        "results = adfuller(flu_trends.FluVisits)\n",
        "print(\"ADF Statistics: %f\" % results[0])\n",
        "print(\"p-value: %f\" % results[1])\n",
        "print(\"Critical Values: \")\n",
        "for key , values in results[4].items():\n",
        "  print( \"\\t%s: %f\" % (key , values))\n",
        "if (results[1]>0.05):\n",
        "  print(\"Series is not stationary\")\n",
        "else:\n",
        "  print(\"Series is stationary\")"
      ],
      "metadata": {
        "colab": {
          "base_uri": "https://localhost:8080/"
        },
        "id": "gqlKhyi3FoG9",
        "outputId": "01e6a940-13c1-4979-cc90-2397e24de620"
      },
      "execution_count": null,
      "outputs": [
        {
          "output_type": "stream",
          "name": "stdout",
          "text": [
            "ADF Statistics: -5.607721\n",
            "p-value: 0.000001\n",
            "Critical Values: \n",
            "\t1%: -3.448595\n",
            "\t5%: -2.869580\n",
            "\t10%: -2.571053\n",
            "Series is stationary\n"
          ]
        }
      ]
    },
    {
      "cell_type": "markdown",
      "source": [
        "#kpss test for check the series is stationary or not stationary"
      ],
      "metadata": {
        "id": "O9SgRWRXmrF-"
      }
    },
    {
      "cell_type": "code",
      "source": [
        "# kpss test\n",
        "results = kpss(flu_trends.FluVisits)\n",
        "print(\"ADF Statistics: %f\" % results[0])\n",
        "print(\"p-value: %f\" % results[1])\n",
        "print(\"Critical Values: \")\n",
        "for key , values in results[3].items():\n",
        "  print( \"\\t%s: %f\" % (key , values))\n",
        "if (results[1]<0.05):\n",
        "  print(\"Series is not stationary\")\n",
        "else:\n",
        "  print(\"Series is stationary\")"
      ],
      "metadata": {
        "colab": {
          "base_uri": "https://localhost:8080/"
        },
        "id": "lO5uOQD-GFK9",
        "outputId": "8ad96b05-ac97-4615-ba6a-173e1598857a"
      },
      "execution_count": null,
      "outputs": [
        {
          "output_type": "stream",
          "name": "stdout",
          "text": [
            "ADF Statistics: 0.047889\n",
            "p-value: 0.100000\n",
            "Critical Values: \n",
            "\t10%: 0.347000\n",
            "\t5%: 0.463000\n",
            "\t2.5%: 0.574000\n",
            "\t1%: 0.739000\n",
            "Series is stationary\n"
          ]
        },
        {
          "output_type": "stream",
          "name": "stderr",
          "text": [
            "<ipython-input-22-48f08b26e70e>:2: InterpolationWarning: The test statistic is outside of the range of p-values available in the\n",
            "look-up table. The actual p-value is greater than the p-value returned.\n",
            "\n",
            "  results = kpss(flu_trends.FluVisits)\n"
          ]
        }
      ]
    },
    {
      "cell_type": "markdown",
      "source": [
        "#split dataset into train and test"
      ],
      "metadata": {
        "id": "CqldoLD_m-j5"
      }
    },
    {
      "cell_type": "code",
      "source": [
        "# split data for open\n",
        "split = int(len(flu_trends.FluVisits) * 0.8)\n",
        "train, test = flu_trends.FluVisits.iloc[:split], flu_trends.FluVisits.iloc[split:]"
      ],
      "metadata": {
        "id": "Az7ywGPqGTgB"
      },
      "execution_count": null,
      "outputs": []
    },
    {
      "cell_type": "code",
      "source": [
        "len(train), len(test)"
      ],
      "metadata": {
        "colab": {
          "base_uri": "https://localhost:8080/"
        },
        "id": "5yaGP3QpHKI6",
        "outputId": "591bb07c-6bc7-4065-c2e9-509935b7bb00"
      },
      "execution_count": null,
      "outputs": [
        {
          "output_type": "execute_result",
          "data": {
            "text/plain": [
              "(292, 74)"
            ]
          },
          "metadata": {},
          "execution_count": 25
        }
      ]
    },
    {
      "cell_type": "markdown",
      "source": [
        "#create ARIMA Model"
      ],
      "metadata": {
        "id": "vgHitbEKnCkj"
      }
    },
    {
      "cell_type": "code",
      "source": [
        "# model ariam AR(1)\n",
        "from statsmodels.tsa.arima.model import ARIMA\n",
        "model=ARIMA(train,order=(1,0,0))\n",
        "results = model.fit()"
      ],
      "metadata": {
        "id": "OxqhrYLYHNJR"
      },
      "execution_count": null,
      "outputs": []
    },
    {
      "cell_type": "markdown",
      "source": [
        "#prediction and Chech root mean squre error"
      ],
      "metadata": {
        "id": "V7j3ZsRAnG4T"
      }
    },
    {
      "cell_type": "code",
      "source": [
        "from sklearn.metrics import mean_squared_error\n",
        "from math import sqrt\n",
        "predictions2 = results.predict(start=len(train+1), end= len(train)+len(test)-1, dynamic=False)\n",
        "predictions1 = results.predict(start=1, end= len(train), dynamic=False)\n",
        "rmse1 = sqrt(mean_squared_error(train, predictions1))\n",
        "print('Train RMSE: %.3f' % rmse1)\n",
        "rmse2 = sqrt(mean_squared_error(test, predictions2))\n",
        "print('Test RMSE: %.3f' % rmse2)"
      ],
      "metadata": {
        "colab": {
          "base_uri": "https://localhost:8080/"
        },
        "id": "yLDHFs_sH2E3",
        "outputId": "37607a25-bd23-4f3d-a41a-0764ea9a90fd"
      },
      "execution_count": null,
      "outputs": [
        {
          "output_type": "stream",
          "name": "stdout",
          "text": [
            "Train RMSE: 33.514\n",
            "Test RMSE: 621.988\n"
          ]
        }
      ]
    },
    {
      "cell_type": "code",
      "source": [
        "# model ariam AR(2)\n",
        "model=ARIMA(train,order=(2,0,0))\n",
        "results = model.fit()\n",
        "\n",
        "predictions2 = results.predict(start=len(train+1), end= len(train)+len(test)-1, dynamic=False)\n",
        "predictions1 = results.predict(start=1, end= len(train), dynamic=False)\n",
        "rmse1 = sqrt(mean_squared_error(train, predictions1))\n",
        "print('Train RMSE: %.3f' % rmse1)\n",
        "rmse2 = sqrt(mean_squared_error(test, predictions2))\n",
        "print('Test RMSE: %.3f' % rmse2)"
      ],
      "metadata": {
        "colab": {
          "base_uri": "https://localhost:8080/"
        },
        "id": "C18rI9DZIPMY",
        "outputId": "cf259d52-89cc-47fb-a809-8aef948df7b0"
      },
      "execution_count": null,
      "outputs": [
        {
          "output_type": "stream",
          "name": "stdout",
          "text": [
            "Train RMSE: 112.288\n",
            "Test RMSE: 379.622\n"
          ]
        }
      ]
    },
    {
      "cell_type": "code",
      "source": [
        "# model ariam AR(4)\n",
        "model=ARIMA(train,order=(5,0,0))\n",
        "results = model.fit()\n",
        "\n",
        "predictions2 = results.predict(start=len(train+1), end= len(train)+len(test)-1, dynamic=False)\n",
        "predictions1 = results.predict(start=1, end= len(train), dynamic=False)\n",
        "rmse1 = sqrt(mean_squared_error(train, predictions1))\n",
        "print('Train RMSE: %.3f' % rmse1)\n",
        "rmse2 = sqrt(mean_squared_error(test, predictions2))\n",
        "print('Test RMSE: %.3f' % rmse2)"
      ],
      "metadata": {
        "colab": {
          "base_uri": "https://localhost:8080/"
        },
        "id": "40Sis5fdIfQJ",
        "outputId": "101cef6f-3231-4d64-8b9b-b95ba09f6e2f"
      },
      "execution_count": null,
      "outputs": [
        {
          "output_type": "stream",
          "name": "stdout",
          "text": [
            "Train RMSE: 121.624\n",
            "Test RMSE: 364.847\n"
          ]
        }
      ]
    },
    {
      "cell_type": "code",
      "source": [
        "# model ariam ARIMA\n",
        "model=ARIMA(train,order=(1,1,6))\n",
        "results = model.fit()\n",
        "\n",
        "predictions2 = results.predict(start=len(train+1), end= len(train)+len(test)-1, dynamic=False)\n",
        "predictions1 = results.predict(start=1, end= len(train), dynamic=False)\n",
        "rmse1 = sqrt(mean_squared_error(train, predictions1))\n",
        "print('Train RMSE: %.3f' % rmse1)\n",
        "rmse2 = sqrt(mean_squared_error(test, predictions2))\n",
        "print('Test RMSE: %.3f' % rmse2)"
      ],
      "metadata": {
        "colab": {
          "base_uri": "https://localhost:8080/"
        },
        "id": "CPFWNHTrJIu6",
        "outputId": "5c85d8b3-8aee-4ede-a845-d61acfd414e8"
      },
      "execution_count": null,
      "outputs": [
        {
          "output_type": "stream",
          "name": "stdout",
          "text": [
            "Train RMSE: 122.168\n",
            "Test RMSE: 384.782\n"
          ]
        }
      ]
    },
    {
      "cell_type": "code",
      "source": [
        "# model ariam with seasonal factor\n",
        "from statsmodels.tsa.arima.model import ARIMA\n",
        "model=ARIMA(train, order=(4,0,0), seasonal_order=(4,0,0,365))\n",
        "results = model.fit()"
      ],
      "metadata": {
        "colab": {
          "base_uri": "https://localhost:8080/"
        },
        "id": "MpLgFFsYKE1M",
        "outputId": "47cdd4db-d014-4f2c-f208-c293b31d9501"
      },
      "execution_count": null,
      "outputs": [
        {
          "output_type": "stream",
          "name": "stderr",
          "text": [
            "/usr/local/lib/python3.10/dist-packages/statsmodels/tsa/statespace/sarimax.py:866: UserWarning: Too few observations to estimate starting parameters for seasonal ARMA. All parameters except for variances will be set to zeros.\n",
            "  warn('Too few observations to estimate starting parameters%s.'\n"
          ]
        }
      ]
    },
    {
      "cell_type": "code",
      "source": [
        "predictions = results.predict(start=len(train+1), end= len(train)+len(test)-1, dynamic=False)\n",
        "rmse = sqrt(mean_squared_error(test, predictions))\n",
        "print('Test RMSE: %.3f' % rmse)"
      ],
      "metadata": {
        "colab": {
          "base_uri": "https://localhost:8080/"
        },
        "id": "5FW_UWZfQqHv",
        "outputId": "41511944-83d3-464b-daaf-2d8196c6cb03"
      },
      "execution_count": null,
      "outputs": [
        {
          "output_type": "stream",
          "name": "stdout",
          "text": [
            "Test RMSE: 354.734\n"
          ]
        }
      ]
    },
    {
      "cell_type": "code",
      "source": [],
      "metadata": {
        "id": "89LdOpTyQ9-r"
      },
      "execution_count": null,
      "outputs": []
    }
  ]
}